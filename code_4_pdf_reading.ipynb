{
 "cells": [
  {
   "cell_type": "code",
   "execution_count": 3,
   "metadata": {},
   "outputs": [],
   "source": [
    "import re\n",
    "import requests\n",
    "from PyPDF2 import PdfReader\n",
    "from io import BytesIO"
   ]
  },
  {
   "cell_type": "code",
   "execution_count": 12,
   "metadata": {},
   "outputs": [],
   "source": [
    "pattern = r'绿色'"
   ]
  },
  {
   "cell_type": "code",
   "execution_count": null,
   "metadata": {},
   "outputs": [],
   "source": [
    "with open('pdf_url.txt', 'r+') as pdf_url:\n",
    "\tpdf = pdf_url.read().split('\\n')\n",
    "\tfor i in range(len(pdf)):\n",
    "\t\tpdf[i] = pdf[i].split('\\t')\n"
   ]
  },
  {
   "cell_type": "code",
   "execution_count": null,
   "metadata": {},
   "outputs": [],
   "source": [
    "for i in range(len(pdf)):\n",
    "\tif len(pdf[i]) == 3:\n",
    "\t\tpdf_content = requests.get(pdf[i][2]).content\n",
    "\t\tpdf_file = BytesIO(pdf_content)\n",
    "\n",
    "\t\tpdf_reader = PdfReader(pdf_file)\n",
    "\t\tkeywords = 0\n",
    "\t\tfor page in pdf.pages:\n",
    "\t\t\tcontent = page.extract_text()\n",
    "\t\t\tkeywords += len(re.findall(pattern, content))\n",
    "\t\tpdf[i][2] = keywords\n",
    "\t\twith open('green_keywords.txt', 'a+') as green_keywords:\n",
    "\t\t\tgreen_keywords.write(pdf[i].join(',') + '\\n')\n"
   ]
  }
 ],
 "metadata": {
  "kernelspec": {
   "display_name": "base",
   "language": "python",
   "name": "python3"
  },
  "language_info": {
   "codemirror_mode": {
    "name": "ipython",
    "version": 3
   },
   "file_extension": ".py",
   "mimetype": "text/x-python",
   "name": "python",
   "nbconvert_exporter": "python",
   "pygments_lexer": "ipython3",
   "version": "3.9.13 (main, Aug 25 2022, 23:51:50) [MSC v.1916 64 bit (AMD64)]"
  },
  "orig_nbformat": 4,
  "vscode": {
   "interpreter": {
    "hash": "16f5b46f222e2a3e8d4adbf7141cae37b71ed37616e60735fa5d1164a1bc3ada"
   }
  }
 },
 "nbformat": 4,
 "nbformat_minor": 2
}
