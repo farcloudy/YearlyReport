{
 "cells": [
  {
   "cell_type": "code",
   "execution_count": 3,
   "metadata": {},
   "outputs": [],
   "source": [
    "from selenium import webdriver\n",
    "from selenium.webdriver.common.by import By\n",
    "from selenium.webdriver.support.ui import WebDriverWait\n",
    "from selenium.webdriver.support import expected_conditions as EC"
   ]
  },
  {
   "cell_type": "code",
   "execution_count": 2,
   "metadata": {},
   "outputs": [],
   "source": [
    "def WebClick(driver, xpath):\n",
    "\ta = driver.find_element(By.XPATH, xpath)\n",
    "\ta.click()"
   ]
  },
  {
   "cell_type": "code",
   "execution_count": 55,
   "metadata": {},
   "outputs": [],
   "source": [
    "sleep = 0.4\n",
    "\n",
    "report = open('report.txt', mode='a+')\n",
    "\n",
    "existed = open(\"existed.txt\", 'a+')\n",
    "existed.seek(0)\n",
    "existed_list = existed.read().split('\\n')"
   ]
  },
  {
   "cell_type": "code",
   "execution_count": 56,
   "metadata": {},
   "outputs": [],
   "source": [
    "driver = webdriver.Chrome()"
   ]
  },
  {
   "cell_type": "code",
   "execution_count": 46,
   "metadata": {},
   "outputs": [],
   "source": [
    "with open(\"stkid.txt\") as file:\n",
    "\tstkid_list = file.read().split('\\n')"
   ]
  },
  {
   "cell_type": "code",
   "execution_count": 57,
   "metadata": {},
   "outputs": [],
   "source": [
    "for StkID in stkid_list:\n",
    "\tif StkID not in existed_list:\n",
    "\t\ttime.sleep(sleep)\n",
    "\t\t# 搜索\n",
    "\t\tsearch_url = 'http://www.cninfo.com.cn/new/fulltextSearch?notautosubmit=&keyWord=' + StkID\n",
    "\t\tdriver.get(search_url)\n",
    "\t\ttime.sleep(sleep)\n",
    "\t\t#print(driver.current_url)\n",
    "\t\t# 进入搜索页面\n",
    "\t\turl = driver.find_element(By.XPATH, r'//*[@id=\"pane-shj\"]/div/div[2]/div[1]/div[2]/span/a').get_attribute('href') + '#periodicReports'\n",
    "\t\treport.write(url+'\\n')\n",
    "\t\ttime.sleep(sleep)\n",
    "\n",
    "\t\t\n",
    "\t\texisted_list.append(StkID)\n",
    "\t\texisted.write(StkID + '\\n')\n",
    "\n",
    "existed.close()\n",
    "report.close()"
   ]
  }
 ],
 "metadata": {
  "kernelspec": {
   "display_name": "base",
   "language": "python",
   "name": "python3"
  },
  "language_info": {
   "codemirror_mode": {
    "name": "ipython",
    "version": 3
   },
   "file_extension": ".py",
   "mimetype": "text/x-python",
   "name": "python",
   "nbconvert_exporter": "python",
   "pygments_lexer": "ipython3",
   "version": "3.10.8"
  },
  "orig_nbformat": 4,
  "vscode": {
   "interpreter": {
    "hash": "16f5b46f222e2a3e8d4adbf7141cae37b71ed37616e60735fa5d1164a1bc3ada"
   }
  }
 },
 "nbformat": 4,
 "nbformat_minor": 2
}
