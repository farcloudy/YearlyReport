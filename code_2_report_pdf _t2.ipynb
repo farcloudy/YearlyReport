{
 "cells": [
  {
   "cell_type": "code",
   "execution_count": 1,
   "metadata": {},
   "outputs": [],
   "source": [
    "from selenium import webdriver\n",
    "from selenium.webdriver.common.by import By\n",
    "from selenium.webdriver.support.ui import WebDriverWait\n",
    "from selenium.webdriver.support import expected_conditions as EC\n",
    "\n",
    "from lxml import etree\n",
    "import re\n",
    "\n",
    "import time\n",
    "\n",
    "import requests\n",
    "from PyPDF2 import PdfReader\n",
    "from io import BytesIO\n",
    "\n",
    "import chardet\n",
    "\n",
    "#from threading import Thread"
   ]
  },
  {
   "cell_type": "code",
   "execution_count": 15,
   "metadata": {},
   "outputs": [],
   "source": [
    "# 全局变量\n",
    "sleep = 0.3\n",
    "\n",
    "# 加载上市公司主页信息\n",
    "with open('index2.txt', 'r+') as index:\n",
    "\tindex_url_list:list = index.read().split('\\n')\n",
    "\n",
    "# 加载关键词组\n",
    "with open('keywords.txt', 'r+', encoding='utf-8') as keywords:\n",
    "\tkeywords_list:list = keywords.read().split('\\n')\n",
    "pattern = \"|\".join(keywords_list)\n",
    "\n",
    "# 已经记录过的上市公司\n",
    "with open('getted.txt', 'a+') as getted:\n",
    "\tgetted.seek(0)\n",
    "\tgetted_list = getted.read().split('\\n')"
   ]
  },
  {
   "cell_type": "code",
   "execution_count": 16,
   "metadata": {},
   "outputs": [],
   "source": [
    "driver = webdriver.Chrome()"
   ]
  },
  {
   "cell_type": "code",
   "execution_count": 17,
   "metadata": {},
   "outputs": [
    {
     "name": "stdout",
     "output_type": "stream",
     "text": [
      "http://www.cninfo.com.cn/new/disclosure/stock?stockCode=undefined&orgId=undefined#periodicReports\n"
     ]
    },
    {
     "name": "stderr",
     "output_type": "stream",
     "text": [
      "e:\\anaconda3\\lib\\site-packages\\PyPDF2\\_cmap.py:142: PdfReadWarning: Advanced encoding /UniGB-UTF16-H not implemented yet\n",
      "  warnings.warn(\n"
     ]
    },
    {
     "name": "stdout",
     "output_type": "stream",
     "text": [
      "http://www.cninfo.com.cn/new/disclosure/stock?stockCode=undefined&orgId=undefined#periodicReports\n"
     ]
    },
    {
     "ename": "NoSuchWindowException",
     "evalue": "Message: no such window: target window already closed\nfrom unknown error: web view not found\n  (Session info: chrome=109.0.5414.75)\nStacktrace:\nBacktrace:\n\t(No symbol) [0x00706643]\n\t(No symbol) [0x0069BE21]\n\t(No symbol) [0x0059DA9D]\n\t(No symbol) [0x0057EF6A]\n\t(No symbol) [0x005F3AAB]\n\t(No symbol) [0x006061B6]\n\t(No symbol) [0x005EFB76]\n\t(No symbol) [0x005C49C1]\n\t(No symbol) [0x005C5E5D]\n\tGetHandleVerifier [0x0097A142+2497106]\n\tGetHandleVerifier [0x009A85D3+2686691]\n\tGetHandleVerifier [0x009ABB9C+2700460]\n\tGetHandleVerifier [0x007B3B10+635936]\n\t(No symbol) [0x006A4A1F]\n\t(No symbol) [0x006AA418]\n\t(No symbol) [0x006AA505]\n\t(No symbol) [0x006B508B]\n\tBaseThreadInitThunk [0x76CF7D69+25]\n\tRtlInitializeExceptionChain [0x779FBB9B+107]\n\tRtlClearBits [0x779FBB1F+191]\n",
     "output_type": "error",
     "traceback": [
      "\u001b[1;31m---------------------------------------------------------------------------\u001b[0m",
      "\u001b[1;31mNoSuchWindowException\u001b[0m                     Traceback (most recent call last)",
      "\u001b[1;32m~\\AppData\\Local\\Temp\\ipykernel_16920\\1273534942.py\u001b[0m in \u001b[0;36m<module>\u001b[1;34m\u001b[0m\n\u001b[0;32m     27\u001b[0m                                         \u001b[0mdriver\u001b[0m\u001b[1;33m.\u001b[0m\u001b[0mswitch_to\u001b[0m\u001b[1;33m.\u001b[0m\u001b[0mwindow\u001b[0m\u001b[1;33m(\u001b[0m\u001b[0mdriver\u001b[0m\u001b[1;33m.\u001b[0m\u001b[0mwindow_handles\u001b[0m\u001b[1;33m[\u001b[0m\u001b[1;33m-\u001b[0m\u001b[1;36m1\u001b[0m\u001b[1;33m]\u001b[0m\u001b[1;33m)\u001b[0m\u001b[1;33m\u001b[0m\u001b[1;33m\u001b[0m\u001b[0m\n\u001b[0;32m     28\u001b[0m                                         \u001b[1;32mwhile\u001b[0m \u001b[0mre\u001b[0m\u001b[1;33m.\u001b[0m\u001b[0msearch\u001b[0m\u001b[1;33m(\u001b[0m\u001b[1;34m'.+\\.PDF'\u001b[0m\u001b[1;33m,\u001b[0m \u001b[0mlink\u001b[0m\u001b[1;33m)\u001b[0m \u001b[1;33m==\u001b[0m \u001b[1;32mNone\u001b[0m\u001b[1;33m:\u001b[0m\u001b[1;33m\u001b[0m\u001b[1;33m\u001b[0m\u001b[0m\n\u001b[1;32m---> 29\u001b[1;33m                                                 \u001b[0mlink\u001b[0m \u001b[1;33m=\u001b[0m \u001b[0mdriver\u001b[0m\u001b[1;33m.\u001b[0m\u001b[0mfind_element\u001b[0m\u001b[1;33m(\u001b[0m\u001b[0mBy\u001b[0m\u001b[1;33m.\u001b[0m\u001b[0mXPATH\u001b[0m\u001b[1;33m,\u001b[0m \u001b[1;34m'//*[@id=\"noticeDetail\"]/div/div[2]/div[1]/a'\u001b[0m\u001b[1;33m)\u001b[0m\u001b[1;33m.\u001b[0m\u001b[0mget_attribute\u001b[0m\u001b[1;33m(\u001b[0m\u001b[1;34m'href'\u001b[0m\u001b[1;33m)\u001b[0m\u001b[1;33m\u001b[0m\u001b[1;33m\u001b[0m\u001b[0m\n\u001b[0m\u001b[0;32m     30\u001b[0m                                                 \u001b[0mtime\u001b[0m\u001b[1;33m.\u001b[0m\u001b[0msleep\u001b[0m\u001b[1;33m(\u001b[0m\u001b[0msleep\u001b[0m\u001b[1;33m)\u001b[0m\u001b[1;33m\u001b[0m\u001b[1;33m\u001b[0m\u001b[0m\n\u001b[0;32m     31\u001b[0m                                         \u001b[1;31m# 解析pdf\u001b[0m\u001b[1;33m\u001b[0m\u001b[1;33m\u001b[0m\u001b[0m\n",
      "\u001b[1;32me:\\anaconda3\\lib\\site-packages\\selenium\\webdriver\\remote\\webdriver.py\u001b[0m in \u001b[0;36mfind_element\u001b[1;34m(self, by, value)\u001b[0m\n\u001b[0;32m    859\u001b[0m             \u001b[0mvalue\u001b[0m \u001b[1;33m=\u001b[0m \u001b[1;34m'[name=\"%s\"]'\u001b[0m \u001b[1;33m%\u001b[0m \u001b[0mvalue\u001b[0m\u001b[1;33m\u001b[0m\u001b[1;33m\u001b[0m\u001b[0m\n\u001b[0;32m    860\u001b[0m \u001b[1;33m\u001b[0m\u001b[0m\n\u001b[1;32m--> 861\u001b[1;33m         \u001b[1;32mreturn\u001b[0m \u001b[0mself\u001b[0m\u001b[1;33m.\u001b[0m\u001b[0mexecute\u001b[0m\u001b[1;33m(\u001b[0m\u001b[0mCommand\u001b[0m\u001b[1;33m.\u001b[0m\u001b[0mFIND_ELEMENT\u001b[0m\u001b[1;33m,\u001b[0m \u001b[1;33m{\u001b[0m\u001b[1;34m\"using\"\u001b[0m\u001b[1;33m:\u001b[0m \u001b[0mby\u001b[0m\u001b[1;33m,\u001b[0m \u001b[1;34m\"value\"\u001b[0m\u001b[1;33m:\u001b[0m \u001b[0mvalue\u001b[0m\u001b[1;33m}\u001b[0m\u001b[1;33m)\u001b[0m\u001b[1;33m[\u001b[0m\u001b[1;34m\"value\"\u001b[0m\u001b[1;33m]\u001b[0m\u001b[1;33m\u001b[0m\u001b[1;33m\u001b[0m\u001b[0m\n\u001b[0m\u001b[0;32m    862\u001b[0m \u001b[1;33m\u001b[0m\u001b[0m\n\u001b[0;32m    863\u001b[0m     \u001b[1;32mdef\u001b[0m \u001b[0mfind_elements\u001b[0m\u001b[1;33m(\u001b[0m\u001b[0mself\u001b[0m\u001b[1;33m,\u001b[0m \u001b[0mby\u001b[0m\u001b[1;33m=\u001b[0m\u001b[0mBy\u001b[0m\u001b[1;33m.\u001b[0m\u001b[0mID\u001b[0m\u001b[1;33m,\u001b[0m \u001b[0mvalue\u001b[0m\u001b[1;33m:\u001b[0m \u001b[0mOptional\u001b[0m\u001b[1;33m[\u001b[0m\u001b[0mstr\u001b[0m\u001b[1;33m]\u001b[0m \u001b[1;33m=\u001b[0m \u001b[1;32mNone\u001b[0m\u001b[1;33m)\u001b[0m \u001b[1;33m->\u001b[0m \u001b[0mList\u001b[0m\u001b[1;33m[\u001b[0m\u001b[0mWebElement\u001b[0m\u001b[1;33m]\u001b[0m\u001b[1;33m:\u001b[0m\u001b[1;33m\u001b[0m\u001b[1;33m\u001b[0m\u001b[0m\n",
      "\u001b[1;32me:\\anaconda3\\lib\\site-packages\\selenium\\webdriver\\remote\\webdriver.py\u001b[0m in \u001b[0;36mexecute\u001b[1;34m(self, driver_command, params)\u001b[0m\n\u001b[0;32m    442\u001b[0m         \u001b[0mresponse\u001b[0m \u001b[1;33m=\u001b[0m \u001b[0mself\u001b[0m\u001b[1;33m.\u001b[0m\u001b[0mcommand_executor\u001b[0m\u001b[1;33m.\u001b[0m\u001b[0mexecute\u001b[0m\u001b[1;33m(\u001b[0m\u001b[0mdriver_command\u001b[0m\u001b[1;33m,\u001b[0m \u001b[0mparams\u001b[0m\u001b[1;33m)\u001b[0m\u001b[1;33m\u001b[0m\u001b[1;33m\u001b[0m\u001b[0m\n\u001b[0;32m    443\u001b[0m         \u001b[1;32mif\u001b[0m \u001b[0mresponse\u001b[0m\u001b[1;33m:\u001b[0m\u001b[1;33m\u001b[0m\u001b[1;33m\u001b[0m\u001b[0m\n\u001b[1;32m--> 444\u001b[1;33m             \u001b[0mself\u001b[0m\u001b[1;33m.\u001b[0m\u001b[0merror_handler\u001b[0m\u001b[1;33m.\u001b[0m\u001b[0mcheck_response\u001b[0m\u001b[1;33m(\u001b[0m\u001b[0mresponse\u001b[0m\u001b[1;33m)\u001b[0m\u001b[1;33m\u001b[0m\u001b[1;33m\u001b[0m\u001b[0m\n\u001b[0m\u001b[0;32m    445\u001b[0m             \u001b[0mresponse\u001b[0m\u001b[1;33m[\u001b[0m\u001b[1;34m\"value\"\u001b[0m\u001b[1;33m]\u001b[0m \u001b[1;33m=\u001b[0m \u001b[0mself\u001b[0m\u001b[1;33m.\u001b[0m\u001b[0m_unwrap_value\u001b[0m\u001b[1;33m(\u001b[0m\u001b[0mresponse\u001b[0m\u001b[1;33m.\u001b[0m\u001b[0mget\u001b[0m\u001b[1;33m(\u001b[0m\u001b[1;34m\"value\"\u001b[0m\u001b[1;33m,\u001b[0m \u001b[1;32mNone\u001b[0m\u001b[1;33m)\u001b[0m\u001b[1;33m)\u001b[0m\u001b[1;33m\u001b[0m\u001b[1;33m\u001b[0m\u001b[0m\n\u001b[0;32m    446\u001b[0m             \u001b[1;32mreturn\u001b[0m \u001b[0mresponse\u001b[0m\u001b[1;33m\u001b[0m\u001b[1;33m\u001b[0m\u001b[0m\n",
      "\u001b[1;32me:\\anaconda3\\lib\\site-packages\\selenium\\webdriver\\remote\\errorhandler.py\u001b[0m in \u001b[0;36mcheck_response\u001b[1;34m(self, response)\u001b[0m\n\u001b[0;32m    247\u001b[0m                 \u001b[0malert_text\u001b[0m \u001b[1;33m=\u001b[0m \u001b[0mvalue\u001b[0m\u001b[1;33m[\u001b[0m\u001b[1;34m\"alert\"\u001b[0m\u001b[1;33m]\u001b[0m\u001b[1;33m.\u001b[0m\u001b[0mget\u001b[0m\u001b[1;33m(\u001b[0m\u001b[1;34m\"text\"\u001b[0m\u001b[1;33m)\u001b[0m\u001b[1;33m\u001b[0m\u001b[1;33m\u001b[0m\u001b[0m\n\u001b[0;32m    248\u001b[0m             \u001b[1;32mraise\u001b[0m \u001b[0mexception_class\u001b[0m\u001b[1;33m(\u001b[0m\u001b[0mmessage\u001b[0m\u001b[1;33m,\u001b[0m \u001b[0mscreen\u001b[0m\u001b[1;33m,\u001b[0m \u001b[0mstacktrace\u001b[0m\u001b[1;33m,\u001b[0m \u001b[0malert_text\u001b[0m\u001b[1;33m)\u001b[0m  \u001b[1;31m# type: ignore[call-arg]  # mypy is not smart enough here\u001b[0m\u001b[1;33m\u001b[0m\u001b[1;33m\u001b[0m\u001b[0m\n\u001b[1;32m--> 249\u001b[1;33m         \u001b[1;32mraise\u001b[0m \u001b[0mexception_class\u001b[0m\u001b[1;33m(\u001b[0m\u001b[0mmessage\u001b[0m\u001b[1;33m,\u001b[0m \u001b[0mscreen\u001b[0m\u001b[1;33m,\u001b[0m \u001b[0mstacktrace\u001b[0m\u001b[1;33m)\u001b[0m\u001b[1;33m\u001b[0m\u001b[1;33m\u001b[0m\u001b[0m\n\u001b[0m",
      "\u001b[1;31mNoSuchWindowException\u001b[0m: Message: no such window: target window already closed\nfrom unknown error: web view not found\n  (Session info: chrome=109.0.5414.75)\nStacktrace:\nBacktrace:\n\t(No symbol) [0x00706643]\n\t(No symbol) [0x0069BE21]\n\t(No symbol) [0x0059DA9D]\n\t(No symbol) [0x0057EF6A]\n\t(No symbol) [0x005F3AAB]\n\t(No symbol) [0x006061B6]\n\t(No symbol) [0x005EFB76]\n\t(No symbol) [0x005C49C1]\n\t(No symbol) [0x005C5E5D]\n\tGetHandleVerifier [0x0097A142+2497106]\n\tGetHandleVerifier [0x009A85D3+2686691]\n\tGetHandleVerifier [0x009ABB9C+2700460]\n\tGetHandleVerifier [0x007B3B10+635936]\n\t(No symbol) [0x006A4A1F]\n\t(No symbol) [0x006AA418]\n\t(No symbol) [0x006AA505]\n\t(No symbol) [0x006B508B]\n\tBaseThreadInitThunk [0x76CF7D69+25]\n\tRtlInitializeExceptionChain [0x779FBB9B+107]\n\tRtlClearBits [0x779FBB1F+191]\n"
     ]
    }
   ],
   "source": [
    "# 从上市公司主页#periodicReports找年报连接\n",
    "for url in index_url_list:\n",
    "\t# 提取上市公司代码\n",
    "\t# print(url)\n",
    "\ttry:\n",
    "\t\tstkid = re.search('stockCode=(\\d{6})', url).group(1)\n",
    "\t\tif stkid not in getted_list:\n",
    "\t\t\tstatus = '404'\n",
    "\t\t\twhile status == '404':\n",
    "\t\t\t\tdriver.get(url)\n",
    "\t\t\t\tstatus = driver.execute_script(\"return window.status\")\n",
    "\t\t\t'''\n",
    "\t\t\t由于只要20、21年的，所以这里没有做翻页\t\t\n",
    "\t\t\t'''\n",
    "\t\t\treports_list = driver.find_elements(By.XPATH, '//*[@id=\"main\"]/div[3]/div/div[2]/div/div/div[2]/div[1]/div[2]/div/div/div[3]/table/tbody/tr')\n",
    "\t\t\tfor row in reports_list: \n",
    "\t\t\t\trow_html = etree.fromstring(row.get_attribute('outerHTML'))\n",
    "\t\t\t\ttitle = row_html.xpath('./td/div/a/span[1]')[0].text\n",
    "\n",
    "\t\t\t\tif (not re.search(r'(摘要|正文|补充公告|更正前|已取消)', title)) & (re.search('(2020|2021)年年度报告', title) != None):\n",
    "\t\t\t\t\tyear = re.match(r'.+(\\d{4}).+', title).group(1)\n",
    "\t\t\t\t\tlink = 'http://www.cninfo.com.cn' + row_html.xpath('./td/div/a')[0].get('href')\n",
    "\t\t\t\t\t# 打开新的标签页来取得pdf连接\n",
    "\t\t\t\t\tscript = \"window.open('\" + link + \"','_blank');\"\n",
    "\t\t\t\t\t# print(script)\n",
    "\t\t\t\t\tdriver.execute_script(script)\n",
    "\t\t\t\t\tdriver.switch_to.window(driver.window_handles[-1])\n",
    "\t\t\t\t\twhile re.search('.+\\.PDF', link) == None:\n",
    "\t\t\t\t\t\tlink = driver.find_element(By.XPATH, '//*[@id=\"noticeDetail\"]/div/div[2]/div[1]/a').get_attribute('href')\n",
    "\t\t\t\t\t\ttime.sleep(sleep)\n",
    "\t\t\t\t\t# 解析pdf\n",
    "\t\t\t\t\tpdf_content = requests.get(link).content\n",
    "\t\t\t\t\tpdf_file = BytesIO(pdf_content)\n",
    "\t\t\t\t\tpdf_reader = PdfReader(pdf_file)\n",
    "\t\t\t\t\tcount = 0\n",
    "\t\t\t\t\tfor page in pdf_reader.pages:\n",
    "\t\t\t\t\t\tcontent = page.extract_text()\n",
    "\t\t\t\t\t\tcount += len(re.findall(pattern, content))\n",
    "\t\t\t\t\ttemp = [stkid, year, str(count), link]\n",
    "\t\t\t\t\twith open('pdf_url.txt', 'a+') as pdf_url:\n",
    "\t\t\t\t\t\tpdf_url.write('\\t'.join(temp)+'\\n')\n",
    "\t\t\t\t\t# 关闭此标签页并返回\n",
    "\t\t\t\t\tdriver.close()\n",
    "\t\t\t\t\tdriver.switch_to.window(driver.window_handles[0])\n",
    "\t\t\t# 结束\n",
    "\t\t\tgetted_list.append(stkid)\n",
    "\t\t\twith open('getted.txt', 'a+') as getted:\n",
    "\t\t\t\tgetted.write(stkid + '\\n')\n",
    "\texcept AttributeError:\n",
    "\t\tprint(url)"
   ]
  },
  {
   "cell_type": "code",
   "execution_count": 36,
   "metadata": {},
   "outputs": [
    {
     "data": {
      "text/plain": [
       "True"
      ]
     },
     "execution_count": 36,
     "metadata": {},
     "output_type": "execute_result"
    }
   ],
   "source": [
    "url = r'深康佳Ａ：2022年三季度报告'\n",
    "\n",
    "a = re.search('(2020|2021)年年度报告', url)\n",
    "\n",
    "a == None"
   ]
  }
 ],
 "metadata": {
  "kernelspec": {
   "display_name": "base",
   "language": "python",
   "name": "python3"
  },
  "language_info": {
   "codemirror_mode": {
    "name": "ipython",
    "version": 3
   },
   "file_extension": ".py",
   "mimetype": "text/x-python",
   "name": "python",
   "nbconvert_exporter": "python",
   "pygments_lexer": "ipython3",
   "version": "3.9.13"
  },
  "orig_nbformat": 4,
  "vscode": {
   "interpreter": {
    "hash": "16f5b46f222e2a3e8d4adbf7141cae37b71ed37616e60735fa5d1164a1bc3ada"
   }
  }
 },
 "nbformat": 4,
 "nbformat_minor": 2
}
